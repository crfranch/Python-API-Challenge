{
 "cells": [
  {
   "cell_type": "code",
   "execution_count": 1,
   "metadata": {},
   "outputs": [],
   "source": [
    "# Import dependencies and Setup\n",
    "import matplotlib.pyplot as plt\n",
    "import pandas as pd\n",
    "import numpy as np\n",
    "import random\n",
    "import requests\n",
    "import time\n",
    "\n",
    "# Import API keys\n",
    "import api_keys as api_key\n",
    "\n",
    "# Incorporated citipy to determine city based on lat and long\n",
    "from citipy import citipy\n",
    "\n",
    "# Output file path as CSV\n",
    "random_cities = \"output_data/cities.csv\"\n",
    "\n",
    "# Range of latitudes and longitutes\n",
    "lat_range = (-90, 90)\n",
    "lng_range = (-180, 180)"
   ]
  },
  {
   "cell_type": "code",
   "execution_count": 2,
   "metadata": {},
   "outputs": [
    {
     "data": {
      "text/html": [
       "<div>\n",
       "<style scoped>\n",
       "    .dataframe tbody tr th:only-of-type {\n",
       "        vertical-align: middle;\n",
       "    }\n",
       "\n",
       "    .dataframe tbody tr th {\n",
       "        vertical-align: top;\n",
       "    }\n",
       "\n",
       "    .dataframe thead th {\n",
       "        text-align: right;\n",
       "    }\n",
       "</style>\n",
       "<table border=\"1\" class=\"dataframe\">\n",
       "  <thead>\n",
       "    <tr style=\"text-align: right;\">\n",
       "      <th></th>\n",
       "      <th>City</th>\n",
       "    </tr>\n",
       "  </thead>\n",
       "  <tbody>\n",
       "    <tr>\n",
       "      <th>0</th>\n",
       "      <td>rikitea</td>\n",
       "    </tr>\n",
       "    <tr>\n",
       "      <th>1</th>\n",
       "      <td>atuona</td>\n",
       "    </tr>\n",
       "    <tr>\n",
       "      <th>2</th>\n",
       "      <td>tiksi</td>\n",
       "    </tr>\n",
       "    <tr>\n",
       "      <th>3</th>\n",
       "      <td>jammalamadugu</td>\n",
       "    </tr>\n",
       "    <tr>\n",
       "      <th>4</th>\n",
       "      <td>ilulissat</td>\n",
       "    </tr>\n",
       "  </tbody>\n",
       "</table>\n",
       "</div>"
      ],
      "text/plain": [
       "            City\n",
       "0        rikitea\n",
       "1         atuona\n",
       "2          tiksi\n",
       "3  jammalamadugu\n",
       "4      ilulissat"
      ]
     },
     "execution_count": 2,
     "metadata": {},
     "output_type": "execute_result"
    }
   ],
   "source": [
    "# Determine lists for holding lat_longs and cities\n",
    "lat_lngs = []\n",
    "cities = []\n",
    "\n",
    "# Determine a random set of lat and lng combinations\n",
    "lats = np.random.uniform(low=-90.000, high=90.000, size=1500)\n",
    "lngs = np.random.uniform(low=-180.000, high=180.000, size=1500)\n",
    "lat_lngs = zip(lats, lngs)\n",
    "\n",
    "# Identify the nearest city for each combo of lat and lng\n",
    "for lat_lngs in lat_lngs:\n",
    "    city = citipy.nearest_city(lat_lngs[0], lat_lngs[1]).city_name\n",
    "    \n",
    "    # Account for any unique cities by adding to city list\n",
    "    if city not in cities:\n",
    "        cities.append(city)\n",
    "        \n",
    "# Print the city count \n",
    "len(cities)\n",
    "\n",
    "cities_data = pd.DataFrame({\"City\":cities}) \n",
    "cities_data = cities_data.drop_duplicates('City')\n",
    "cities_data.head()"
   ]
  },
  {
   "cell_type": "code",
   "execution_count": 3,
   "metadata": {},
   "outputs": [
    {
     "name": "stdout",
     "output_type": "stream",
     "text": [
      "-------------------\n",
      "Beginning Data Retrieval\n",
      "-------------------\n",
      "Processing City #1: rikitea\n",
      "http://api.openweathermap.org/data/2.5/weather?q=rikitea&units=IMPERIAL&appid=8f14f2fbb3027c15b6d2457a6adca8f8\n"
     ]
    },
    {
     "name": "stderr",
     "output_type": "stream",
     "text": [
      "C:\\Users\\crfra\\anaconda\\Anaconda3\\lib\\site-packages\\ipykernel_launcher.py:22: FutureWarning: set_value is deprecated and will be removed in a future release. Please use .at[] or .iat[] accessors instead\n",
      "C:\\Users\\crfra\\anaconda\\Anaconda3\\lib\\site-packages\\ipykernel_launcher.py:23: FutureWarning: set_value is deprecated and will be removed in a future release. Please use .at[] or .iat[] accessors instead\n",
      "C:\\Users\\crfra\\anaconda\\Anaconda3\\lib\\site-packages\\ipykernel_launcher.py:24: FutureWarning: set_value is deprecated and will be removed in a future release. Please use .at[] or .iat[] accessors instead\n",
      "C:\\Users\\crfra\\anaconda\\Anaconda3\\lib\\site-packages\\ipykernel_launcher.py:25: FutureWarning: set_value is deprecated and will be removed in a future release. Please use .at[] or .iat[] accessors instead\n",
      "C:\\Users\\crfra\\anaconda\\Anaconda3\\lib\\site-packages\\ipykernel_launcher.py:26: FutureWarning: set_value is deprecated and will be removed in a future release. Please use .at[] or .iat[] accessors instead\n",
      "C:\\Users\\crfra\\anaconda\\Anaconda3\\lib\\site-packages\\ipykernel_launcher.py:27: FutureWarning: set_value is deprecated and will be removed in a future release. Please use .at[] or .iat[] accessors instead\n",
      "C:\\Users\\crfra\\anaconda\\Anaconda3\\lib\\site-packages\\ipykernel_launcher.py:28: FutureWarning: set_value is deprecated and will be removed in a future release. Please use .at[] or .iat[] accessors instead\n"
     ]
    },
    {
     "name": "stdout",
     "output_type": "stream",
     "text": [
      "Processing City #2: atuona\n",
      "http://api.openweathermap.org/data/2.5/weather?q=atuona&units=IMPERIAL&appid=8f14f2fbb3027c15b6d2457a6adca8f8\n",
      "Processing City #3: tiksi\n",
      "http://api.openweathermap.org/data/2.5/weather?q=tiksi&units=IMPERIAL&appid=8f14f2fbb3027c15b6d2457a6adca8f8\n",
      "Processing City #4: jammalamadugu\n",
      "http://api.openweathermap.org/data/2.5/weather?q=jammalamadugu&units=IMPERIAL&appid=8f14f2fbb3027c15b6d2457a6adca8f8\n",
      "Processing City #5: ilulissat\n",
      "http://api.openweathermap.org/data/2.5/weather?q=ilulissat&units=IMPERIAL&appid=8f14f2fbb3027c15b6d2457a6adca8f8\n",
      "Processing City #6: hermanus\n",
      "http://api.openweathermap.org/data/2.5/weather?q=hermanus&units=IMPERIAL&appid=8f14f2fbb3027c15b6d2457a6adca8f8\n",
      "Processing City #7: mataura\n",
      "http://api.openweathermap.org/data/2.5/weather?q=mataura&units=IMPERIAL&appid=8f14f2fbb3027c15b6d2457a6adca8f8\n",
      "Processing City #8: vieux fort\n",
      "http://api.openweathermap.org/data/2.5/weather?q=vieux fort&units=IMPERIAL&appid=8f14f2fbb3027c15b6d2457a6adca8f8\n",
      "Processing City #9: cherskiy\n",
      "http://api.openweathermap.org/data/2.5/weather?q=cherskiy&units=IMPERIAL&appid=8f14f2fbb3027c15b6d2457a6adca8f8\n",
      "Processing City #10: kizema\n",
      "http://api.openweathermap.org/data/2.5/weather?q=kizema&units=IMPERIAL&appid=8f14f2fbb3027c15b6d2457a6adca8f8\n",
      "Processing City #11: clyde river\n",
      "http://api.openweathermap.org/data/2.5/weather?q=clyde river&units=IMPERIAL&appid=8f14f2fbb3027c15b6d2457a6adca8f8\n",
      "Processing City #12: catamarca\n",
      "http://api.openweathermap.org/data/2.5/weather?q=catamarca&units=IMPERIAL&appid=8f14f2fbb3027c15b6d2457a6adca8f8\n",
      "City info not found... skip.\n",
      "Processing City #13: port alfred\n",
      "http://api.openweathermap.org/data/2.5/weather?q=port alfred&units=IMPERIAL&appid=8f14f2fbb3027c15b6d2457a6adca8f8\n",
      "Processing City #14: taolanaro\n",
      "http://api.openweathermap.org/data/2.5/weather?q=taolanaro&units=IMPERIAL&appid=8f14f2fbb3027c15b6d2457a6adca8f8\n",
      "City info not found... skip.\n",
      "Processing City #15: lavrentiya\n",
      "http://api.openweathermap.org/data/2.5/weather?q=lavrentiya&units=IMPERIAL&appid=8f14f2fbb3027c15b6d2457a6adca8f8\n",
      "Processing City #16: dikson\n",
      "http://api.openweathermap.org/data/2.5/weather?q=dikson&units=IMPERIAL&appid=8f14f2fbb3027c15b6d2457a6adca8f8\n",
      "Processing City #17: bontang\n",
      "http://api.openweathermap.org/data/2.5/weather?q=bontang&units=IMPERIAL&appid=8f14f2fbb3027c15b6d2457a6adca8f8\n",
      "Processing City #18: ushuaia\n",
      "http://api.openweathermap.org/data/2.5/weather?q=ushuaia&units=IMPERIAL&appid=8f14f2fbb3027c15b6d2457a6adca8f8\n",
      "Processing City #19: punta arenas\n",
      "http://api.openweathermap.org/data/2.5/weather?q=punta arenas&units=IMPERIAL&appid=8f14f2fbb3027c15b6d2457a6adca8f8\n",
      "Processing City #20: cocal\n",
      "http://api.openweathermap.org/data/2.5/weather?q=cocal&units=IMPERIAL&appid=8f14f2fbb3027c15b6d2457a6adca8f8\n",
      "Processing City #21: nacala\n",
      "http://api.openweathermap.org/data/2.5/weather?q=nacala&units=IMPERIAL&appid=8f14f2fbb3027c15b6d2457a6adca8f8\n",
      "Processing City #22: shakawe\n",
      "http://api.openweathermap.org/data/2.5/weather?q=shakawe&units=IMPERIAL&appid=8f14f2fbb3027c15b6d2457a6adca8f8\n",
      "Processing City #23: vaini\n",
      "http://api.openweathermap.org/data/2.5/weather?q=vaini&units=IMPERIAL&appid=8f14f2fbb3027c15b6d2457a6adca8f8\n",
      "Processing City #24: waingapu\n",
      "http://api.openweathermap.org/data/2.5/weather?q=waingapu&units=IMPERIAL&appid=8f14f2fbb3027c15b6d2457a6adca8f8\n",
      "Processing City #25: cabo san lucas\n",
      "http://api.openweathermap.org/data/2.5/weather?q=cabo san lucas&units=IMPERIAL&appid=8f14f2fbb3027c15b6d2457a6adca8f8\n",
      "Processing City #26: barrow\n",
      "http://api.openweathermap.org/data/2.5/weather?q=barrow&units=IMPERIAL&appid=8f14f2fbb3027c15b6d2457a6adca8f8\n",
      "Processing City #27: nikolskoye\n",
      "http://api.openweathermap.org/data/2.5/weather?q=nikolskoye&units=IMPERIAL&appid=8f14f2fbb3027c15b6d2457a6adca8f8\n",
      "Processing City #28: khatanga\n",
      "http://api.openweathermap.org/data/2.5/weather?q=khatanga&units=IMPERIAL&appid=8f14f2fbb3027c15b6d2457a6adca8f8\n",
      "Processing City #29: mahebourg\n",
      "http://api.openweathermap.org/data/2.5/weather?q=mahebourg&units=IMPERIAL&appid=8f14f2fbb3027c15b6d2457a6adca8f8\n",
      "Processing City #30: kyzyl-suu\n",
      "http://api.openweathermap.org/data/2.5/weather?q=kyzyl-suu&units=IMPERIAL&appid=8f14f2fbb3027c15b6d2457a6adca8f8\n",
      "Processing City #31: belushya guba\n",
      "http://api.openweathermap.org/data/2.5/weather?q=belushya guba&units=IMPERIAL&appid=8f14f2fbb3027c15b6d2457a6adca8f8\n",
      "City info not found... skip.\n",
      "Processing City #32: ribeira grande\n",
      "http://api.openweathermap.org/data/2.5/weather?q=ribeira grande&units=IMPERIAL&appid=8f14f2fbb3027c15b6d2457a6adca8f8\n",
      "Processing City #33: qaanaaq\n",
      "http://api.openweathermap.org/data/2.5/weather?q=qaanaaq&units=IMPERIAL&appid=8f14f2fbb3027c15b6d2457a6adca8f8\n",
      "Processing City #34: kutulik\n",
      "http://api.openweathermap.org/data/2.5/weather?q=kutulik&units=IMPERIAL&appid=8f14f2fbb3027c15b6d2457a6adca8f8\n",
      "Processing City #35: caico\n",
      "http://api.openweathermap.org/data/2.5/weather?q=caico&units=IMPERIAL&appid=8f14f2fbb3027c15b6d2457a6adca8f8\n",
      "Processing City #36: saint-augustin\n",
      "http://api.openweathermap.org/data/2.5/weather?q=saint-augustin&units=IMPERIAL&appid=8f14f2fbb3027c15b6d2457a6adca8f8\n",
      "Processing City #37: lorengau\n",
      "http://api.openweathermap.org/data/2.5/weather?q=lorengau&units=IMPERIAL&appid=8f14f2fbb3027c15b6d2457a6adca8f8\n",
      "Processing City #38: port lincoln\n",
      "http://api.openweathermap.org/data/2.5/weather?q=port lincoln&units=IMPERIAL&appid=8f14f2fbb3027c15b6d2457a6adca8f8\n",
      "Processing City #39: kapaa\n",
      "http://api.openweathermap.org/data/2.5/weather?q=kapaa&units=IMPERIAL&appid=8f14f2fbb3027c15b6d2457a6adca8f8\n",
      "Processing City #40: saskylakh\n",
      "http://api.openweathermap.org/data/2.5/weather?q=saskylakh&units=IMPERIAL&appid=8f14f2fbb3027c15b6d2457a6adca8f8\n",
      "Processing City #41: aklavik\n",
      "http://api.openweathermap.org/data/2.5/weather?q=aklavik&units=IMPERIAL&appid=8f14f2fbb3027c15b6d2457a6adca8f8\n",
      "Processing City #42: puerto escondido\n",
      "http://api.openweathermap.org/data/2.5/weather?q=puerto escondido&units=IMPERIAL&appid=8f14f2fbb3027c15b6d2457a6adca8f8\n",
      "Processing City #43: illoqqortoormiut\n",
      "http://api.openweathermap.org/data/2.5/weather?q=illoqqortoormiut&units=IMPERIAL&appid=8f14f2fbb3027c15b6d2457a6adca8f8\n",
      "City info not found... skip.\n",
      "Processing City #44: carnarvon\n",
      "http://api.openweathermap.org/data/2.5/weather?q=carnarvon&units=IMPERIAL&appid=8f14f2fbb3027c15b6d2457a6adca8f8\n",
      "Processing City #45: hilo\n",
      "http://api.openweathermap.org/data/2.5/weather?q=hilo&units=IMPERIAL&appid=8f14f2fbb3027c15b6d2457a6adca8f8\n",
      "Processing City #46: nizhneyansk\n",
      "http://api.openweathermap.org/data/2.5/weather?q=nizhneyansk&units=IMPERIAL&appid=8f14f2fbb3027c15b6d2457a6adca8f8\n",
      "City info not found... skip.\n",
      "Processing City #47: new norfolk\n",
      "http://api.openweathermap.org/data/2.5/weather?q=new norfolk&units=IMPERIAL&appid=8f14f2fbb3027c15b6d2457a6adca8f8\n",
      "Processing City #48: jamestown\n",
      "http://api.openweathermap.org/data/2.5/weather?q=jamestown&units=IMPERIAL&appid=8f14f2fbb3027c15b6d2457a6adca8f8\n",
      "Processing City #49: general roca\n",
      "http://api.openweathermap.org/data/2.5/weather?q=general roca&units=IMPERIAL&appid=8f14f2fbb3027c15b6d2457a6adca8f8\n",
      "Processing City #50: olinda\n",
      "http://api.openweathermap.org/data/2.5/weather?q=olinda&units=IMPERIAL&appid=8f14f2fbb3027c15b6d2457a6adca8f8\n",
      "Processing City #51: hobart\n",
      "http://api.openweathermap.org/data/2.5/weather?q=hobart&units=IMPERIAL&appid=8f14f2fbb3027c15b6d2457a6adca8f8\n",
      "Processing City #52: te anau\n",
      "http://api.openweathermap.org/data/2.5/weather?q=te anau&units=IMPERIAL&appid=8f14f2fbb3027c15b6d2457a6adca8f8\n"
     ]
    },
    {
     "ename": "KeyboardInterrupt",
     "evalue": "",
     "output_type": "error",
     "traceback": [
      "\u001b[1;31m---------------------------------------------------------------------------\u001b[0m",
      "\u001b[1;31mTypeError\u001b[0m                                 Traceback (most recent call last)",
      "\u001b[1;32m~\\anaconda\\Anaconda3\\lib\\site-packages\\urllib3\\connectionpool.py\u001b[0m in \u001b[0;36m_make_request\u001b[1;34m(self, conn, method, url, timeout, chunked, **httplib_request_kw)\u001b[0m\n\u001b[0;32m    376\u001b[0m             \u001b[1;32mtry\u001b[0m\u001b[1;33m:\u001b[0m  \u001b[1;31m# Python 2.7, use buffering of HTTP responses\u001b[0m\u001b[1;33m\u001b[0m\u001b[1;33m\u001b[0m\u001b[0m\n\u001b[1;32m--> 377\u001b[1;33m                 \u001b[0mhttplib_response\u001b[0m \u001b[1;33m=\u001b[0m \u001b[0mconn\u001b[0m\u001b[1;33m.\u001b[0m\u001b[0mgetresponse\u001b[0m\u001b[1;33m(\u001b[0m\u001b[0mbuffering\u001b[0m\u001b[1;33m=\u001b[0m\u001b[1;32mTrue\u001b[0m\u001b[1;33m)\u001b[0m\u001b[1;33m\u001b[0m\u001b[1;33m\u001b[0m\u001b[0m\n\u001b[0m\u001b[0;32m    378\u001b[0m             \u001b[1;32mexcept\u001b[0m \u001b[0mTypeError\u001b[0m\u001b[1;33m:\u001b[0m  \u001b[1;31m# Python 3\u001b[0m\u001b[1;33m\u001b[0m\u001b[1;33m\u001b[0m\u001b[0m\n",
      "\u001b[1;31mTypeError\u001b[0m: getresponse() got an unexpected keyword argument 'buffering'",
      "\nDuring handling of the above exception, another exception occurred:\n",
      "\u001b[1;31mKeyboardInterrupt\u001b[0m                         Traceback (most recent call last)",
      "\u001b[1;32m<ipython-input-3-2a8f79fbabac>\u001b[0m in \u001b[0;36m<module>\u001b[1;34m\u001b[0m\n\u001b[0;32m     14\u001b[0m \u001b[1;32mfor\u001b[0m \u001b[0mindex\u001b[0m\u001b[1;33m,\u001b[0m \u001b[0mrow\u001b[0m \u001b[1;32min\u001b[0m \u001b[0mcities_data\u001b[0m\u001b[1;33m.\u001b[0m\u001b[0miterrows\u001b[0m\u001b[1;33m(\u001b[0m\u001b[1;33m)\u001b[0m\u001b[1;33m:\u001b[0m\u001b[1;33m\u001b[0m\u001b[1;33m\u001b[0m\u001b[0m\n\u001b[0;32m     15\u001b[0m     \u001b[0mtarget_url\u001b[0m \u001b[1;33m=\u001b[0m \u001b[1;34m\"http://api.openweathermap.org/data/2.5/weather?q=%s&units=IMPERIAL&appid=%s\"\u001b[0m \u001b[1;33m%\u001b[0m\u001b[1;33m(\u001b[0m\u001b[0mrow\u001b[0m\u001b[1;33m[\u001b[0m\u001b[1;34m\"City\"\u001b[0m\u001b[1;33m]\u001b[0m\u001b[1;33m,\u001b[0m \u001b[0mapi_key\u001b[0m\u001b[1;33m)\u001b[0m\u001b[1;33m\u001b[0m\u001b[1;33m\u001b[0m\u001b[0m\n\u001b[1;32m---> 16\u001b[1;33m     \u001b[0mresponse\u001b[0m \u001b[1;33m=\u001b[0m \u001b[0mrequests\u001b[0m\u001b[1;33m.\u001b[0m\u001b[0mget\u001b[0m\u001b[1;33m(\u001b[0m\u001b[0mtarget_url\u001b[0m\u001b[1;33m)\u001b[0m\u001b[1;33m.\u001b[0m\u001b[0mjson\u001b[0m\u001b[1;33m(\u001b[0m\u001b[1;33m)\u001b[0m\u001b[1;33m\u001b[0m\u001b[1;33m\u001b[0m\u001b[0m\n\u001b[0m\u001b[0;32m     17\u001b[0m     \u001b[0mprint\u001b[0m\u001b[1;33m(\u001b[0m\u001b[1;34m\"Processing City #%s: %s\"\u001b[0m \u001b[1;33m%\u001b[0m \u001b[1;33m(\u001b[0m\u001b[0mrow_count\u001b[0m \u001b[1;33m+\u001b[0m \u001b[1;36m1\u001b[0m\u001b[1;33m,\u001b[0m \u001b[0mcities_data\u001b[0m\u001b[1;33m.\u001b[0m\u001b[0mloc\u001b[0m\u001b[1;33m[\u001b[0m\u001b[0mindex\u001b[0m\u001b[1;33m]\u001b[0m\u001b[1;33m[\u001b[0m\u001b[1;34m\"City\"\u001b[0m\u001b[1;33m]\u001b[0m\u001b[1;33m)\u001b[0m\u001b[1;33m)\u001b[0m\u001b[1;33m\u001b[0m\u001b[1;33m\u001b[0m\u001b[0m\n\u001b[0;32m     18\u001b[0m     \u001b[0mprint\u001b[0m\u001b[1;33m(\u001b[0m\u001b[0mtarget_url\u001b[0m\u001b[1;33m)\u001b[0m\u001b[1;33m\u001b[0m\u001b[1;33m\u001b[0m\u001b[0m\n",
      "\u001b[1;32m~\\anaconda\\Anaconda3\\lib\\site-packages\\requests\\api.py\u001b[0m in \u001b[0;36mget\u001b[1;34m(url, params, **kwargs)\u001b[0m\n\u001b[0;32m     73\u001b[0m \u001b[1;33m\u001b[0m\u001b[0m\n\u001b[0;32m     74\u001b[0m     \u001b[0mkwargs\u001b[0m\u001b[1;33m.\u001b[0m\u001b[0msetdefault\u001b[0m\u001b[1;33m(\u001b[0m\u001b[1;34m'allow_redirects'\u001b[0m\u001b[1;33m,\u001b[0m \u001b[1;32mTrue\u001b[0m\u001b[1;33m)\u001b[0m\u001b[1;33m\u001b[0m\u001b[1;33m\u001b[0m\u001b[0m\n\u001b[1;32m---> 75\u001b[1;33m     \u001b[1;32mreturn\u001b[0m \u001b[0mrequest\u001b[0m\u001b[1;33m(\u001b[0m\u001b[1;34m'get'\u001b[0m\u001b[1;33m,\u001b[0m \u001b[0murl\u001b[0m\u001b[1;33m,\u001b[0m \u001b[0mparams\u001b[0m\u001b[1;33m=\u001b[0m\u001b[0mparams\u001b[0m\u001b[1;33m,\u001b[0m \u001b[1;33m**\u001b[0m\u001b[0mkwargs\u001b[0m\u001b[1;33m)\u001b[0m\u001b[1;33m\u001b[0m\u001b[1;33m\u001b[0m\u001b[0m\n\u001b[0m\u001b[0;32m     76\u001b[0m \u001b[1;33m\u001b[0m\u001b[0m\n\u001b[0;32m     77\u001b[0m \u001b[1;33m\u001b[0m\u001b[0m\n",
      "\u001b[1;32m~\\anaconda\\Anaconda3\\lib\\site-packages\\requests\\api.py\u001b[0m in \u001b[0;36mrequest\u001b[1;34m(method, url, **kwargs)\u001b[0m\n\u001b[0;32m     58\u001b[0m     \u001b[1;31m# cases, and look like a memory leak in others.\u001b[0m\u001b[1;33m\u001b[0m\u001b[1;33m\u001b[0m\u001b[1;33m\u001b[0m\u001b[0m\n\u001b[0;32m     59\u001b[0m     \u001b[1;32mwith\u001b[0m \u001b[0msessions\u001b[0m\u001b[1;33m.\u001b[0m\u001b[0mSession\u001b[0m\u001b[1;33m(\u001b[0m\u001b[1;33m)\u001b[0m \u001b[1;32mas\u001b[0m \u001b[0msession\u001b[0m\u001b[1;33m:\u001b[0m\u001b[1;33m\u001b[0m\u001b[1;33m\u001b[0m\u001b[0m\n\u001b[1;32m---> 60\u001b[1;33m         \u001b[1;32mreturn\u001b[0m \u001b[0msession\u001b[0m\u001b[1;33m.\u001b[0m\u001b[0mrequest\u001b[0m\u001b[1;33m(\u001b[0m\u001b[0mmethod\u001b[0m\u001b[1;33m=\u001b[0m\u001b[0mmethod\u001b[0m\u001b[1;33m,\u001b[0m \u001b[0murl\u001b[0m\u001b[1;33m=\u001b[0m\u001b[0murl\u001b[0m\u001b[1;33m,\u001b[0m \u001b[1;33m**\u001b[0m\u001b[0mkwargs\u001b[0m\u001b[1;33m)\u001b[0m\u001b[1;33m\u001b[0m\u001b[1;33m\u001b[0m\u001b[0m\n\u001b[0m\u001b[0;32m     61\u001b[0m \u001b[1;33m\u001b[0m\u001b[0m\n\u001b[0;32m     62\u001b[0m \u001b[1;33m\u001b[0m\u001b[0m\n",
      "\u001b[1;32m~\\anaconda\\Anaconda3\\lib\\site-packages\\requests\\sessions.py\u001b[0m in \u001b[0;36mrequest\u001b[1;34m(self, method, url, params, data, headers, cookies, files, auth, timeout, allow_redirects, proxies, hooks, stream, verify, cert, json)\u001b[0m\n\u001b[0;32m    531\u001b[0m         }\n\u001b[0;32m    532\u001b[0m         \u001b[0msend_kwargs\u001b[0m\u001b[1;33m.\u001b[0m\u001b[0mupdate\u001b[0m\u001b[1;33m(\u001b[0m\u001b[0msettings\u001b[0m\u001b[1;33m)\u001b[0m\u001b[1;33m\u001b[0m\u001b[1;33m\u001b[0m\u001b[0m\n\u001b[1;32m--> 533\u001b[1;33m         \u001b[0mresp\u001b[0m \u001b[1;33m=\u001b[0m \u001b[0mself\u001b[0m\u001b[1;33m.\u001b[0m\u001b[0msend\u001b[0m\u001b[1;33m(\u001b[0m\u001b[0mprep\u001b[0m\u001b[1;33m,\u001b[0m \u001b[1;33m**\u001b[0m\u001b[0msend_kwargs\u001b[0m\u001b[1;33m)\u001b[0m\u001b[1;33m\u001b[0m\u001b[1;33m\u001b[0m\u001b[0m\n\u001b[0m\u001b[0;32m    534\u001b[0m \u001b[1;33m\u001b[0m\u001b[0m\n\u001b[0;32m    535\u001b[0m         \u001b[1;32mreturn\u001b[0m \u001b[0mresp\u001b[0m\u001b[1;33m\u001b[0m\u001b[1;33m\u001b[0m\u001b[0m\n",
      "\u001b[1;32m~\\anaconda\\Anaconda3\\lib\\site-packages\\requests\\sessions.py\u001b[0m in \u001b[0;36msend\u001b[1;34m(self, request, **kwargs)\u001b[0m\n\u001b[0;32m    644\u001b[0m \u001b[1;33m\u001b[0m\u001b[0m\n\u001b[0;32m    645\u001b[0m         \u001b[1;31m# Send the request\u001b[0m\u001b[1;33m\u001b[0m\u001b[1;33m\u001b[0m\u001b[1;33m\u001b[0m\u001b[0m\n\u001b[1;32m--> 646\u001b[1;33m         \u001b[0mr\u001b[0m \u001b[1;33m=\u001b[0m \u001b[0madapter\u001b[0m\u001b[1;33m.\u001b[0m\u001b[0msend\u001b[0m\u001b[1;33m(\u001b[0m\u001b[0mrequest\u001b[0m\u001b[1;33m,\u001b[0m \u001b[1;33m**\u001b[0m\u001b[0mkwargs\u001b[0m\u001b[1;33m)\u001b[0m\u001b[1;33m\u001b[0m\u001b[1;33m\u001b[0m\u001b[0m\n\u001b[0m\u001b[0;32m    647\u001b[0m \u001b[1;33m\u001b[0m\u001b[0m\n\u001b[0;32m    648\u001b[0m         \u001b[1;31m# Total elapsed time of the request (approximately)\u001b[0m\u001b[1;33m\u001b[0m\u001b[1;33m\u001b[0m\u001b[1;33m\u001b[0m\u001b[0m\n",
      "\u001b[1;32m~\\anaconda\\Anaconda3\\lib\\site-packages\\requests\\adapters.py\u001b[0m in \u001b[0;36msend\u001b[1;34m(self, request, stream, timeout, verify, cert, proxies)\u001b[0m\n\u001b[0;32m    447\u001b[0m                     \u001b[0mdecode_content\u001b[0m\u001b[1;33m=\u001b[0m\u001b[1;32mFalse\u001b[0m\u001b[1;33m,\u001b[0m\u001b[1;33m\u001b[0m\u001b[1;33m\u001b[0m\u001b[0m\n\u001b[0;32m    448\u001b[0m                     \u001b[0mretries\u001b[0m\u001b[1;33m=\u001b[0m\u001b[0mself\u001b[0m\u001b[1;33m.\u001b[0m\u001b[0mmax_retries\u001b[0m\u001b[1;33m,\u001b[0m\u001b[1;33m\u001b[0m\u001b[1;33m\u001b[0m\u001b[0m\n\u001b[1;32m--> 449\u001b[1;33m                     \u001b[0mtimeout\u001b[0m\u001b[1;33m=\u001b[0m\u001b[0mtimeout\u001b[0m\u001b[1;33m\u001b[0m\u001b[1;33m\u001b[0m\u001b[0m\n\u001b[0m\u001b[0;32m    450\u001b[0m                 )\n\u001b[0;32m    451\u001b[0m \u001b[1;33m\u001b[0m\u001b[0m\n",
      "\u001b[1;32m~\\anaconda\\Anaconda3\\lib\\site-packages\\urllib3\\connectionpool.py\u001b[0m in \u001b[0;36murlopen\u001b[1;34m(self, method, url, body, headers, retries, redirect, assert_same_host, timeout, pool_timeout, release_conn, chunked, body_pos, **response_kw)\u001b[0m\n\u001b[0;32m    598\u001b[0m                                                   \u001b[0mtimeout\u001b[0m\u001b[1;33m=\u001b[0m\u001b[0mtimeout_obj\u001b[0m\u001b[1;33m,\u001b[0m\u001b[1;33m\u001b[0m\u001b[1;33m\u001b[0m\u001b[0m\n\u001b[0;32m    599\u001b[0m                                                   \u001b[0mbody\u001b[0m\u001b[1;33m=\u001b[0m\u001b[0mbody\u001b[0m\u001b[1;33m,\u001b[0m \u001b[0mheaders\u001b[0m\u001b[1;33m=\u001b[0m\u001b[0mheaders\u001b[0m\u001b[1;33m,\u001b[0m\u001b[1;33m\u001b[0m\u001b[1;33m\u001b[0m\u001b[0m\n\u001b[1;32m--> 600\u001b[1;33m                                                   chunked=chunked)\n\u001b[0m\u001b[0;32m    601\u001b[0m \u001b[1;33m\u001b[0m\u001b[0m\n\u001b[0;32m    602\u001b[0m             \u001b[1;31m# If we're going to release the connection in ``finally:``, then\u001b[0m\u001b[1;33m\u001b[0m\u001b[1;33m\u001b[0m\u001b[1;33m\u001b[0m\u001b[0m\n",
      "\u001b[1;32m~\\anaconda\\Anaconda3\\lib\\site-packages\\urllib3\\connectionpool.py\u001b[0m in \u001b[0;36m_make_request\u001b[1;34m(self, conn, method, url, timeout, chunked, **httplib_request_kw)\u001b[0m\n\u001b[0;32m    378\u001b[0m             \u001b[1;32mexcept\u001b[0m \u001b[0mTypeError\u001b[0m\u001b[1;33m:\u001b[0m  \u001b[1;31m# Python 3\u001b[0m\u001b[1;33m\u001b[0m\u001b[1;33m\u001b[0m\u001b[0m\n\u001b[0;32m    379\u001b[0m                 \u001b[1;32mtry\u001b[0m\u001b[1;33m:\u001b[0m\u001b[1;33m\u001b[0m\u001b[1;33m\u001b[0m\u001b[0m\n\u001b[1;32m--> 380\u001b[1;33m                     \u001b[0mhttplib_response\u001b[0m \u001b[1;33m=\u001b[0m \u001b[0mconn\u001b[0m\u001b[1;33m.\u001b[0m\u001b[0mgetresponse\u001b[0m\u001b[1;33m(\u001b[0m\u001b[1;33m)\u001b[0m\u001b[1;33m\u001b[0m\u001b[1;33m\u001b[0m\u001b[0m\n\u001b[0m\u001b[0;32m    381\u001b[0m                 \u001b[1;32mexcept\u001b[0m \u001b[0mException\u001b[0m \u001b[1;32mas\u001b[0m \u001b[0me\u001b[0m\u001b[1;33m:\u001b[0m\u001b[1;33m\u001b[0m\u001b[1;33m\u001b[0m\u001b[0m\n\u001b[0;32m    382\u001b[0m                     \u001b[1;31m# Remove the TypeError from the exception chain in Python 3;\u001b[0m\u001b[1;33m\u001b[0m\u001b[1;33m\u001b[0m\u001b[1;33m\u001b[0m\u001b[0m\n",
      "\u001b[1;32m~\\anaconda\\Anaconda3\\lib\\http\\client.py\u001b[0m in \u001b[0;36mgetresponse\u001b[1;34m(self)\u001b[0m\n\u001b[0;32m   1319\u001b[0m         \u001b[1;32mtry\u001b[0m\u001b[1;33m:\u001b[0m\u001b[1;33m\u001b[0m\u001b[1;33m\u001b[0m\u001b[0m\n\u001b[0;32m   1320\u001b[0m             \u001b[1;32mtry\u001b[0m\u001b[1;33m:\u001b[0m\u001b[1;33m\u001b[0m\u001b[1;33m\u001b[0m\u001b[0m\n\u001b[1;32m-> 1321\u001b[1;33m                 \u001b[0mresponse\u001b[0m\u001b[1;33m.\u001b[0m\u001b[0mbegin\u001b[0m\u001b[1;33m(\u001b[0m\u001b[1;33m)\u001b[0m\u001b[1;33m\u001b[0m\u001b[1;33m\u001b[0m\u001b[0m\n\u001b[0m\u001b[0;32m   1322\u001b[0m             \u001b[1;32mexcept\u001b[0m \u001b[0mConnectionError\u001b[0m\u001b[1;33m:\u001b[0m\u001b[1;33m\u001b[0m\u001b[1;33m\u001b[0m\u001b[0m\n\u001b[0;32m   1323\u001b[0m                 \u001b[0mself\u001b[0m\u001b[1;33m.\u001b[0m\u001b[0mclose\u001b[0m\u001b[1;33m(\u001b[0m\u001b[1;33m)\u001b[0m\u001b[1;33m\u001b[0m\u001b[1;33m\u001b[0m\u001b[0m\n",
      "\u001b[1;32m~\\anaconda\\Anaconda3\\lib\\http\\client.py\u001b[0m in \u001b[0;36mbegin\u001b[1;34m(self)\u001b[0m\n\u001b[0;32m    294\u001b[0m         \u001b[1;31m# read until we get a non-100 response\u001b[0m\u001b[1;33m\u001b[0m\u001b[1;33m\u001b[0m\u001b[1;33m\u001b[0m\u001b[0m\n\u001b[0;32m    295\u001b[0m         \u001b[1;32mwhile\u001b[0m \u001b[1;32mTrue\u001b[0m\u001b[1;33m:\u001b[0m\u001b[1;33m\u001b[0m\u001b[1;33m\u001b[0m\u001b[0m\n\u001b[1;32m--> 296\u001b[1;33m             \u001b[0mversion\u001b[0m\u001b[1;33m,\u001b[0m \u001b[0mstatus\u001b[0m\u001b[1;33m,\u001b[0m \u001b[0mreason\u001b[0m \u001b[1;33m=\u001b[0m \u001b[0mself\u001b[0m\u001b[1;33m.\u001b[0m\u001b[0m_read_status\u001b[0m\u001b[1;33m(\u001b[0m\u001b[1;33m)\u001b[0m\u001b[1;33m\u001b[0m\u001b[1;33m\u001b[0m\u001b[0m\n\u001b[0m\u001b[0;32m    297\u001b[0m             \u001b[1;32mif\u001b[0m \u001b[0mstatus\u001b[0m \u001b[1;33m!=\u001b[0m \u001b[0mCONTINUE\u001b[0m\u001b[1;33m:\u001b[0m\u001b[1;33m\u001b[0m\u001b[1;33m\u001b[0m\u001b[0m\n\u001b[0;32m    298\u001b[0m                 \u001b[1;32mbreak\u001b[0m\u001b[1;33m\u001b[0m\u001b[1;33m\u001b[0m\u001b[0m\n",
      "\u001b[1;32m~\\anaconda\\Anaconda3\\lib\\http\\client.py\u001b[0m in \u001b[0;36m_read_status\u001b[1;34m(self)\u001b[0m\n\u001b[0;32m    255\u001b[0m \u001b[1;33m\u001b[0m\u001b[0m\n\u001b[0;32m    256\u001b[0m     \u001b[1;32mdef\u001b[0m \u001b[0m_read_status\u001b[0m\u001b[1;33m(\u001b[0m\u001b[0mself\u001b[0m\u001b[1;33m)\u001b[0m\u001b[1;33m:\u001b[0m\u001b[1;33m\u001b[0m\u001b[1;33m\u001b[0m\u001b[0m\n\u001b[1;32m--> 257\u001b[1;33m         \u001b[0mline\u001b[0m \u001b[1;33m=\u001b[0m \u001b[0mstr\u001b[0m\u001b[1;33m(\u001b[0m\u001b[0mself\u001b[0m\u001b[1;33m.\u001b[0m\u001b[0mfp\u001b[0m\u001b[1;33m.\u001b[0m\u001b[0mreadline\u001b[0m\u001b[1;33m(\u001b[0m\u001b[0m_MAXLINE\u001b[0m \u001b[1;33m+\u001b[0m \u001b[1;36m1\u001b[0m\u001b[1;33m)\u001b[0m\u001b[1;33m,\u001b[0m \u001b[1;34m\"iso-8859-1\"\u001b[0m\u001b[1;33m)\u001b[0m\u001b[1;33m\u001b[0m\u001b[1;33m\u001b[0m\u001b[0m\n\u001b[0m\u001b[0;32m    258\u001b[0m         \u001b[1;32mif\u001b[0m \u001b[0mlen\u001b[0m\u001b[1;33m(\u001b[0m\u001b[0mline\u001b[0m\u001b[1;33m)\u001b[0m \u001b[1;33m>\u001b[0m \u001b[0m_MAXLINE\u001b[0m\u001b[1;33m:\u001b[0m\u001b[1;33m\u001b[0m\u001b[1;33m\u001b[0m\u001b[0m\n\u001b[0;32m    259\u001b[0m             \u001b[1;32mraise\u001b[0m \u001b[0mLineTooLong\u001b[0m\u001b[1;33m(\u001b[0m\u001b[1;34m\"status line\"\u001b[0m\u001b[1;33m)\u001b[0m\u001b[1;33m\u001b[0m\u001b[1;33m\u001b[0m\u001b[0m\n",
      "\u001b[1;32m~\\anaconda\\Anaconda3\\lib\\socket.py\u001b[0m in \u001b[0;36mreadinto\u001b[1;34m(self, b)\u001b[0m\n\u001b[0;32m    587\u001b[0m         \u001b[1;32mwhile\u001b[0m \u001b[1;32mTrue\u001b[0m\u001b[1;33m:\u001b[0m\u001b[1;33m\u001b[0m\u001b[1;33m\u001b[0m\u001b[0m\n\u001b[0;32m    588\u001b[0m             \u001b[1;32mtry\u001b[0m\u001b[1;33m:\u001b[0m\u001b[1;33m\u001b[0m\u001b[1;33m\u001b[0m\u001b[0m\n\u001b[1;32m--> 589\u001b[1;33m                 \u001b[1;32mreturn\u001b[0m \u001b[0mself\u001b[0m\u001b[1;33m.\u001b[0m\u001b[0m_sock\u001b[0m\u001b[1;33m.\u001b[0m\u001b[0mrecv_into\u001b[0m\u001b[1;33m(\u001b[0m\u001b[0mb\u001b[0m\u001b[1;33m)\u001b[0m\u001b[1;33m\u001b[0m\u001b[1;33m\u001b[0m\u001b[0m\n\u001b[0m\u001b[0;32m    590\u001b[0m             \u001b[1;32mexcept\u001b[0m \u001b[0mtimeout\u001b[0m\u001b[1;33m:\u001b[0m\u001b[1;33m\u001b[0m\u001b[1;33m\u001b[0m\u001b[0m\n\u001b[0;32m    591\u001b[0m                 \u001b[0mself\u001b[0m\u001b[1;33m.\u001b[0m\u001b[0m_timeout_occurred\u001b[0m \u001b[1;33m=\u001b[0m \u001b[1;32mTrue\u001b[0m\u001b[1;33m\u001b[0m\u001b[1;33m\u001b[0m\u001b[0m\n",
      "\u001b[1;31mKeyboardInterrupt\u001b[0m: "
     ]
    }
   ],
   "source": [
    "# Perform API Calls\n",
    "# Introduce a base url for API Call\n",
    "api_key = \"8f14f2fbb3027c15b6d2457a6adca8f8\"\n",
    "#base_url = \"http://api.openweathermap.org/data/2.5/weather?units=Imperial&APPID=\" + api_key \n",
    "\n",
    "# Set the initial row count to zero\n",
    "row_count = 0\n",
    "\n",
    "print(\"-------------------\")\n",
    "print(\"Beginning Data Retrieval\")\n",
    "print(\"-------------------\")\n",
    "\n",
    "# Loop through the cities and perform API Calls\n",
    "for index, row in cities_data.iterrows():\n",
    "    target_url = \"http://api.openweathermap.org/data/2.5/weather?q=%s&units=IMPERIAL&appid=%s\" %(row[\"City\"], api_key)\n",
    "    response = requests.get(target_url).json()\n",
    "    print(\"Processing City #%s: %s\" % (row_count + 1, cities_data.loc[index][\"City\"]))\n",
    "    print(target_url)\n",
    "    row_count += 1\n",
    "    \n",
    "    try:     \n",
    "        cities_data.set_value(index, \"Lat\", response[\"coord\"][\"lat\"])\n",
    "        cities_data.set_value(index, \"Lon\", response[\"coord\"][\"lon\"])\n",
    "        cities_data.set_value(index, \"Humidity\", response[\"main\"][\"humidity\"])\n",
    "        cities_data.set_value(index, \"Temp\", response[\"main\"][\"temp\"])\n",
    "        cities_data.set_value(index, \"Windspeed\", response[\"wind\"][\"speed\"])\n",
    "        cities_data.set_value(index, \"Cloudiness\", response[\"clouds\"][\"all\"])\n",
    "        cities_data.set_value(index, \"Date\", response[\"dt\"])\n",
    "           \n",
    "    except:\n",
    "        print(\"City info not found... skip.\")\n",
    "        \n",
    "print(\"---------------------\")\n",
    "print(\"End of Data Retrieval\")\n",
    "print(\"---------------------\")"
   ]
  },
  {
   "cell_type": "code",
   "execution_count": 4,
   "metadata": {},
   "outputs": [
    {
     "data": {
      "text/html": [
       "<div>\n",
       "<style scoped>\n",
       "    .dataframe tbody tr th:only-of-type {\n",
       "        vertical-align: middle;\n",
       "    }\n",
       "\n",
       "    .dataframe tbody tr th {\n",
       "        vertical-align: top;\n",
       "    }\n",
       "\n",
       "    .dataframe thead th {\n",
       "        text-align: right;\n",
       "    }\n",
       "</style>\n",
       "<table border=\"1\" class=\"dataframe\">\n",
       "  <thead>\n",
       "    <tr style=\"text-align: right;\">\n",
       "      <th></th>\n",
       "      <th>City</th>\n",
       "      <th>Lat</th>\n",
       "      <th>Lon</th>\n",
       "      <th>Humidity</th>\n",
       "      <th>Temp</th>\n",
       "      <th>Windspeed</th>\n",
       "      <th>Cloudiness</th>\n",
       "      <th>Date</th>\n",
       "    </tr>\n",
       "  </thead>\n",
       "  <tbody>\n",
       "    <tr>\n",
       "      <th>0</th>\n",
       "      <td>rikitea</td>\n",
       "      <td>-23.12</td>\n",
       "      <td>-134.97</td>\n",
       "      <td>100.0</td>\n",
       "      <td>77.80</td>\n",
       "      <td>13.53</td>\n",
       "      <td>88.0</td>\n",
       "      <td>1.552340e+09</td>\n",
       "    </tr>\n",
       "    <tr>\n",
       "      <th>1</th>\n",
       "      <td>atuona</td>\n",
       "      <td>-9.80</td>\n",
       "      <td>-139.03</td>\n",
       "      <td>100.0</td>\n",
       "      <td>81.53</td>\n",
       "      <td>14.76</td>\n",
       "      <td>20.0</td>\n",
       "      <td>1.552340e+09</td>\n",
       "    </tr>\n",
       "    <tr>\n",
       "      <th>2</th>\n",
       "      <td>tiksi</td>\n",
       "      <td>71.64</td>\n",
       "      <td>128.87</td>\n",
       "      <td>50.0</td>\n",
       "      <td>-9.55</td>\n",
       "      <td>10.07</td>\n",
       "      <td>44.0</td>\n",
       "      <td>1.552340e+09</td>\n",
       "    </tr>\n",
       "    <tr>\n",
       "      <th>3</th>\n",
       "      <td>jammalamadugu</td>\n",
       "      <td>14.85</td>\n",
       "      <td>78.38</td>\n",
       "      <td>67.0</td>\n",
       "      <td>69.92</td>\n",
       "      <td>3.24</td>\n",
       "      <td>0.0</td>\n",
       "      <td>1.552340e+09</td>\n",
       "    </tr>\n",
       "    <tr>\n",
       "      <th>4</th>\n",
       "      <td>ilulissat</td>\n",
       "      <td>69.22</td>\n",
       "      <td>-51.10</td>\n",
       "      <td>65.0</td>\n",
       "      <td>8.60</td>\n",
       "      <td>8.05</td>\n",
       "      <td>75.0</td>\n",
       "      <td>1.552337e+09</td>\n",
       "    </tr>\n",
       "  </tbody>\n",
       "</table>\n",
       "</div>"
      ],
      "text/plain": [
       "            City    Lat     Lon  Humidity   Temp  Windspeed  Cloudiness  \\\n",
       "0        rikitea -23.12 -134.97     100.0  77.80      13.53        88.0   \n",
       "1         atuona  -9.80 -139.03     100.0  81.53      14.76        20.0   \n",
       "2          tiksi  71.64  128.87      50.0  -9.55      10.07        44.0   \n",
       "3  jammalamadugu  14.85   78.38      67.0  69.92       3.24         0.0   \n",
       "4      ilulissat  69.22  -51.10      65.0   8.60       8.05        75.0   \n",
       "\n",
       "           Date  \n",
       "0  1.552340e+09  \n",
       "1  1.552340e+09  \n",
       "2  1.552340e+09  \n",
       "3  1.552340e+09  \n",
       "4  1.552337e+09  "
      ]
     },
     "execution_count": 4,
     "metadata": {},
     "output_type": "execute_result"
    }
   ],
   "source": [
    "# Convert to Pandas DataFrame\n",
    "cities_data_pd = pd.DataFrame(cities_data)\n",
    "\n",
    "# Focus on each factor being measured\n",
    "lat = cities_data_pd[\"Lat\"]\n",
    "temp = cities_data_pd[\"Temp\"]\n",
    "humidity = cities_data_pd[\"Humidity\"]\n",
    "clouds = cities_data_pd[\"Cloudiness\"]\n",
    "wind_speed = cities_data_pd[\"Windspeed\"]\n",
    "\n",
    "# Export into CSV File\n",
    "# cities_data_pd.to_csv(random_cities, index_label=\"City_ID\")\n",
    "\n",
    "cities_data.head()"
   ]
  },
  {
   "cell_type": "code",
   "execution_count": 5,
   "metadata": {},
   "outputs": [],
   "source": [
    "# Plotting the Data\n",
    "# Use proper labeling of the plots using plot titles (including date of analysis) and axes labels.\n",
    "# Save the plotted figures as .pngs."
   ]
  },
  {
   "cell_type": "code",
   "execution_count": 6,
   "metadata": {},
   "outputs": [
    {
     "data": {
      "image/png": "[encoded data removed]",
      "text/plain": [
       "<Figure size 432x288 with 1 Axes>"
      ]
     },
     "metadata": {
      "needs_background": "light"
     },
     "output_type": "display_data"
    }
   ],
   "source": [
    "# Latitude vs. Temperature Plot\n",
    "\n",
    "# Build a scatter plot for each data type\n",
    "plt.scatter(lat, temp)\n",
    "\n",
    "# Incorporate the other graph properties\n",
    "plt.title(\"Temperature in World Cities\")\n",
    "plt.ylabel(\"Temperature (Farenheit)\")\n",
    "plt.xlabel(\"Latitude\")\n",
    "plt.grid(True)\n",
    "\n",
    "# Save the plotted figures as .pngs.\n",
    "plt.savefig(\"TemperatureInWorldCities.png\")\n",
    "\n",
    "# Show plot\n",
    "plt.show()"
   ]
  },
  {
   "cell_type": "code",
   "execution_count": 7,
   "metadata": {},
   "outputs": [
    {
     "data": {
      "image/png": "[encoded data removed]",
      "text/plain": [
       "<Figure size 432x288 with 1 Axes>"
      ]
     },
     "metadata": {
      "needs_background": "light"
     },
     "output_type": "display_data"
    }
   ],
   "source": [
    "# Latitude vs. Humidity Plot\n",
    "\n",
    "# Build a scatter plot for each data type\n",
    "plt.scatter(lat, humidity)\n",
    "\n",
    "# Incorporate the other graph properties\n",
    "plt.title(\"Humidity in World Cities\")\n",
    "plt.ylabel(\"Humidity (%)\")\n",
    "plt.xlabel(\"Latitude\")\n",
    "plt.grid(True)\n",
    "\n",
    "# Save the plotted figures as .png\n",
    "plt.savefig(\"HumidityInWorldCities.png\")"
   ]
  },
  {
   "cell_type": "code",
   "execution_count": 8,
   "metadata": {},
   "outputs": [
    {
     "data": {
      "image/png": "[encoded data removed]",
      "text/plain": [
       "<Figure size 432x288 with 1 Axes>"
      ]
     },
     "metadata": {
      "needs_background": "light"
     },
     "output_type": "display_data"
    }
   ],
   "source": [
    "# Latitude vs. Cloudiness Plot\n",
    "\n",
    "# Build a scatter plot for each data type\n",
    "plt.scatter(lat, clouds)\n",
    "\n",
    "# Incorporate the other graph properties\n",
    "plt.title(\"Cloudiness in World Cities\")\n",
    "plt.ylabel(\"Cloudiness (%)\")\n",
    "plt.xlabel(\"Latitude\")\n",
    "plt.grid(True)\n",
    "\n",
    "# Save the plotted figures as .png\n",
    "plt.savefig(\"CloudinessInWorldCities.png\")"
   ]
  },
  {
   "cell_type": "code",
   "execution_count": 9,
   "metadata": {},
   "outputs": [
    {
     "data": {
      "image/png": "[encoded data removed]",
      "text/plain": [
       "<Figure size 432x288 with 1 Axes>"
      ]
     },
     "metadata": {
      "needs_background": "light"
     },
     "output_type": "display_data"
    }
   ],
   "source": [
    "# Latitude vs. Wind Speed Plot\n",
    "\n",
    "# Build a scatter plot for each data type\n",
    "plt.scatter(lat, wind_speed)\n",
    "\n",
    "# Incorporate the other graph properties\n",
    "plt.title(\"Wind Speed in World Cities\")\n",
    "plt.ylabel(\"Wind Speed (mph)\")\n",
    "plt.xlabel(\"Latitude\")\n",
    "plt.grid(True)\n",
    "\n",
    "# Save the plotted figures as .png\n",
    "plt.savefig(\"WindSpeedInWorldCities.png\")"
   ]
  },
  {
   "cell_type": "code",
   "execution_count": null,
   "metadata": {},
   "outputs": [],
   "source": [
    "# Provide analysis of weather data in world cities:\n",
    "# 1.) As cities across the world have a lower latitude (closer to the equator), they display a higher temperature in degrees farenheit. \n",
    "# 2.) Majority of world cities have a wind speed less than or equal to 20mph; however, there is a small positive correlation between cities that are further from the equator and have a higher wind speed. \n",
    "# 3.) There is no relationship between cloudiness and latitude, as the data appears to be neutral.\n",
    "# 4.) There is no relationship between humidity and latitude, as the data appears to be neutral. "
   ]
  }
 ],
 "metadata": {
  "kernelspec": {
   "display_name": "Python 3",
   "language": "python",
   "name": "python3"
  },
  "language_info": {
   "codemirror_mode": {
    "name": "ipython",
    "version": 3
   },
   "file_extension": ".py",
   "mimetype": "text/x-python",
   "name": "python",
   "nbconvert_exporter": "python",
   "pygments_lexer": "ipython3",
   "version": "3.7.1"
  }
 },
 "nbformat": 4,
 "nbformat_minor": 2
}
